{
 "cells": [
  {
   "cell_type": "code",
   "execution_count": 2,
   "id": "0c5678b3-d41d-4bc8-a350-e6ea446d786c",
   "metadata": {},
   "outputs": [
    {
     "data": {
      "text/html": [
       "<div>\n",
       "<style scoped>\n",
       "    .dataframe tbody tr th:only-of-type {\n",
       "        vertical-align: middle;\n",
       "    }\n",
       "\n",
       "    .dataframe tbody tr th {\n",
       "        vertical-align: top;\n",
       "    }\n",
       "\n",
       "    .dataframe thead th {\n",
       "        text-align: right;\n",
       "    }\n",
       "</style>\n",
       "<table border=\"1\" class=\"dataframe\">\n",
       "  <thead>\n",
       "    <tr style=\"text-align: right;\">\n",
       "      <th></th>\n",
       "      <th>PassengerId</th>\n",
       "      <th>Survived</th>\n",
       "      <th>Pclass</th>\n",
       "      <th>Name</th>\n",
       "      <th>Sex</th>\n",
       "      <th>Age</th>\n",
       "      <th>SibSp</th>\n",
       "      <th>Parch</th>\n",
       "      <th>Ticket</th>\n",
       "      <th>Fare</th>\n",
       "      <th>Cabin</th>\n",
       "      <th>Embarked</th>\n",
       "    </tr>\n",
       "  </thead>\n",
       "  <tbody>\n",
       "    <tr>\n",
       "      <th>0</th>\n",
       "      <td>1</td>\n",
       "      <td>0</td>\n",
       "      <td>3</td>\n",
       "      <td>Braund, Mr. Owen Harris</td>\n",
       "      <td>male</td>\n",
       "      <td>22.0</td>\n",
       "      <td>1</td>\n",
       "      <td>0</td>\n",
       "      <td>A/5 21171</td>\n",
       "      <td>7.2500</td>\n",
       "      <td>NaN</td>\n",
       "      <td>S</td>\n",
       "    </tr>\n",
       "    <tr>\n",
       "      <th>1</th>\n",
       "      <td>2</td>\n",
       "      <td>1</td>\n",
       "      <td>1</td>\n",
       "      <td>Cumings, Mrs. John Bradley (Florence Briggs Th...</td>\n",
       "      <td>female</td>\n",
       "      <td>38.0</td>\n",
       "      <td>1</td>\n",
       "      <td>0</td>\n",
       "      <td>PC 17599</td>\n",
       "      <td>71.2833</td>\n",
       "      <td>C85</td>\n",
       "      <td>C</td>\n",
       "    </tr>\n",
       "    <tr>\n",
       "      <th>2</th>\n",
       "      <td>3</td>\n",
       "      <td>1</td>\n",
       "      <td>3</td>\n",
       "      <td>Heikkinen, Miss. Laina</td>\n",
       "      <td>female</td>\n",
       "      <td>26.0</td>\n",
       "      <td>0</td>\n",
       "      <td>0</td>\n",
       "      <td>STON/O2. 3101282</td>\n",
       "      <td>7.9250</td>\n",
       "      <td>NaN</td>\n",
       "      <td>S</td>\n",
       "    </tr>\n",
       "    <tr>\n",
       "      <th>3</th>\n",
       "      <td>4</td>\n",
       "      <td>1</td>\n",
       "      <td>1</td>\n",
       "      <td>Futrelle, Mrs. Jacques Heath (Lily May Peel)</td>\n",
       "      <td>female</td>\n",
       "      <td>35.0</td>\n",
       "      <td>1</td>\n",
       "      <td>0</td>\n",
       "      <td>113803</td>\n",
       "      <td>53.1000</td>\n",
       "      <td>C123</td>\n",
       "      <td>S</td>\n",
       "    </tr>\n",
       "    <tr>\n",
       "      <th>4</th>\n",
       "      <td>5</td>\n",
       "      <td>0</td>\n",
       "      <td>3</td>\n",
       "      <td>Allen, Mr. William Henry</td>\n",
       "      <td>male</td>\n",
       "      <td>35.0</td>\n",
       "      <td>0</td>\n",
       "      <td>0</td>\n",
       "      <td>373450</td>\n",
       "      <td>8.0500</td>\n",
       "      <td>NaN</td>\n",
       "      <td>S</td>\n",
       "    </tr>\n",
       "  </tbody>\n",
       "</table>\n",
       "</div>"
      ],
      "text/plain": [
       "   PassengerId  Survived  Pclass  \\\n",
       "0            1         0       3   \n",
       "1            2         1       1   \n",
       "2            3         1       3   \n",
       "3            4         1       1   \n",
       "4            5         0       3   \n",
       "\n",
       "                                                Name     Sex   Age  SibSp  \\\n",
       "0                            Braund, Mr. Owen Harris    male  22.0      1   \n",
       "1  Cumings, Mrs. John Bradley (Florence Briggs Th...  female  38.0      1   \n",
       "2                             Heikkinen, Miss. Laina  female  26.0      0   \n",
       "3       Futrelle, Mrs. Jacques Heath (Lily May Peel)  female  35.0      1   \n",
       "4                           Allen, Mr. William Henry    male  35.0      0   \n",
       "\n",
       "   Parch            Ticket     Fare Cabin Embarked  \n",
       "0      0         A/5 21171   7.2500   NaN        S  \n",
       "1      0          PC 17599  71.2833   C85        C  \n",
       "2      0  STON/O2. 3101282   7.9250   NaN        S  \n",
       "3      0            113803  53.1000  C123        S  \n",
       "4      0            373450   8.0500   NaN        S  "
      ]
     },
     "execution_count": 2,
     "metadata": {},
     "output_type": "execute_result"
    }
   ],
   "source": [
    "import pandas as pd\n",
    "Titanic_dataset = pd.read_csv(\"/Users/mineozfen/Desktop/Titanic_dataset.csv\")\n",
    "Titanic_dataset.head() ##İlk beş satırı döndürür"
   ]
  },
  {
   "cell_type": "code",
   "execution_count": 4,
   "id": "c3a2238b-dcf5-4fe8-aad5-ff9066bb3462",
   "metadata": {},
   "outputs": [
    {
     "name": "stdout",
     "output_type": "stream",
     "text": [
      "Kazada ölenlerin yaş ortalaması: 30.62617924528302\n"
     ]
    }
   ],
   "source": [
    "#Kazada ölenlerin yaş ortalamasını bulunuz\n",
    "olenler = Titanic_dataset[Titanic_dataset[\"Survived\"] == 0]\n",
    "\n",
    "\n",
    "yas_ortalamasi = olenler[\"Age\"].mean()\n",
    "\n",
    "print(\"Kazada ölenlerin yaş ortalaması:\", yas_ortalamasi)"
   ]
  },
  {
   "cell_type": "code",
   "execution_count": 6,
   "id": "7ae97f04-0149-496a-8085-d75cca5c0853",
   "metadata": {},
   "outputs": [
    {
     "name": "stdout",
     "output_type": "stream",
     "text": [
      "Kazada ölenlerin bilet fiyatı ortalaması: 22.117886885245902\n",
      "Kazada ölenlerin bilet fiyatı medyanı: 10.5\n"
     ]
    }
   ],
   "source": [
    "#Kazada ölenlerin bilet fiyatlarının ortalamasını ve medyanını bulunuz\n",
    "\n",
    "Titanic_dataset = pd.read_csv(\"/Users/mineozfen/Desktop/Titanic_dataset.csv\")  
    "\n",
    "\n",
    "olenler = Titanic_dataset[Titanic_dataset[\"Survived\"] == 0]\n",
    "\n",
    "\n",
    "ortalama_fiyat = olenler[\"Fare\"].mean()\n",
    "medyan_fiyat = olenler[\"Fare\"].median()\n",
    "\n",
    "print(\"Kazada ölenlerin bilet fiyatı ortalaması:\", ortalama_fiyat)\n",
    "print(\"Kazada ölenlerin bilet fiyatı medyanı:\", medyan_fiyat)\n"
   ]
  },
  {
   "cell_type": "code",
   "execution_count": 9,
   "id": "df77c733-bdea-4d8a-bcc2-1383e2b13869",
   "metadata": {},
   "outputs": [
    {
     "name": "stdout",
     "output_type": "stream",
     "text": [
      "Kazada ölen erkeklerin yaş ortalaması: 31.618055555555557\n"
     ]
    }
   ],
   "source": [
    "#Kazada ölen erkeklerin yaş ortalamasını bulunuz\n",
    "\n",
    "olen_erkekler = Titanic_dataset[(Titanic_dataset[\"Survived\"] == 0) & (Titanic_dataset[\"Sex\"] == \"male\")]\n",
    "\n",
    "yas_ortalamasi = olen_erkekler[\"Age\"].mean()\n",
    "\n",
    "print(\"Kazada ölen erkeklerin yaş ortalaması:\", yas_ortalamasi)\n"
   ]
  },
  {
   "cell_type": "code",
   "execution_count": 10,
   "id": "6567ce51-f710-490f-b3c2-b48acc8edd47",
   "metadata": {},
   "outputs": [
    {
     "name": "stdout",
     "output_type": "stream",
     "text": [
      "Kazada ölen kadınların yaş ortalaması: 25.046875\n"
     ]
    }
   ],
   "source": [
    "#Kazada ölen Kadınların yaş ortalamasını bulunuz\n",
    "\n",
    "olen_kadinlar = Titanic_dataset[(Titanic_dataset[\"Survived\"] == 0) & (Titanic_dataset[\"Sex\"] == \"female\")]\n",
    "\n",
    "\n",
    "yas_ortalamasi = olen_kadinlar[\"Age\"].mean()\n",
    "\n",
    "print(\"Kazada ölen kadınların yaş ortalaması:\", yas_ortalamasi)\n"
   ]
  },
  {
   "cell_type": "code",
   "execution_count": 11,
   "id": "6bb41e0a-1d04-4863-afea-da97a1308004",
   "metadata": {},
   "outputs": [
    {
     "name": "stdout",
     "output_type": "stream",
     "text": [
      "Kazadan kurtulanların yaş ortalaması: 28.343689655172415\n"
     ]
    }
   ],
   "source": [
    "#Kazadan kurtulanların yaş ortalamasını bulunuz\n",
    "kurtulanlar = Titanic_dataset[Titanic_dataset[\"Survived\"] == 1]\n",
    "\n",
    "\n",
    "yas_ortalamasi = kurtulanlar[\"Age\"].mean()\n",
    "\n",
    "print(\"Kazadan kurtulanların yaş ortalaması:\", yas_ortalamasi)\n"
   ]
  },
  {
   "cell_type": "code",
   "execution_count": 12,
   "id": "2e603092-e06a-4837-b5af-fd63086478eb",
   "metadata": {},
   "outputs": [
    {
     "name": "stdout",
     "output_type": "stream",
     "text": [
      "Kazadan kurtulanların bilet fiyatı ortalaması: 48.39540760233918\n"
     ]
    }
   ],
   "source": [
    "#Kazadan kurtulanların bilet fiyatlarının ortalamasını bulunuz\n",
    "\n",
    "kurtulanlar = Titanic_dataset[Titanic_dataset[\"Survived\"] == 1]\n",
    "\n",
    "ortalama_fiyat = kurtulanlar[\"Fare\"].mean()\n",
    "\n",
    "print(\"Kazadan kurtulanların bilet fiyatı ortalaması:\", ortalama_fiyat)\n"
   ]
  },
  {
   "cell_type": "code",
   "execution_count": 13,
   "id": "0152ed7e-1114-4e43-b5af-297e6c69c3dc",
   "metadata": {},
   "outputs": [
    {
     "name": "stdout",
     "output_type": "stream",
     "text": [
      "Kazadan kurtulan toplam kişi sayısı: 342\n"
     ]
    }
   ],
   "source": [
    "#Kazadan kurtulan toplam kişi sayısını bulunuz… \n",
   
    "\n",
    "kurtulan_sayi = len(Titanic_dataset[Titanic_dataset[\"Survived\"] == 1])\n",
    "\n",
    "print(\"Kazadan kurtulan toplam kişi sayısı:\", kurtulan_sayi)\n"
   ]
  },
  {
   "cell_type": "code",
   "execution_count": 14,
   "id": "7b67088b-e852-45af-9f00-994641c17091",
   "metadata": {},
   "outputs": [
    {
     "name": "stdout",
     "output_type": "stream",
     "text": [
      "10 yaşından küçüklerin bilet fiyatı medyanı: 27.0\n"
     ]
    }
   ],
   "source": [
    "#10 yaşından küçüklerin bilet fiyatlarının medyan değerini bulunuz\n",
    "\n",
    "kucuk_yolcular = Titanic_dataset[Titanic_dataset[\"Age\"] < 10]\n",
    "\n",
    "\n",
    "medyan_fiyat = kucuk_yolcular[\"Fare\"].median()\n",
    "\n",
    "print(\"10 yaşından küçüklerin bilet fiyatı medyanı:\", medyan_fiyat)\n"
   ]
  },
  {
   "cell_type": "code",
   "execution_count": 15,
   "id": "68bd0279-f878-4dd4-a333-532d13054493",
   "metadata": {},
   "outputs": [
    {
     "name": "stdout",
     "output_type": "stream",
     "text": [
      "1. Sınıf - Ortalama Fiyat: 84.15, Medyan Fiyat: 60.29\n",
      "2. Sınıf - Ortalama Fiyat: 20.66, Medyan Fiyat: 14.25\n",
      "3. Sınıf - Ortalama Fiyat: 13.68, Medyan Fiyat: 8.05\n"
     ]
    }
   ],
   "source": [
    "#1.sınıf, 2.sınıf ve 3.sınıf bilet fiyatlarının ortalama ve medyanlarını karşılaştırınız. (Pclass değişkeni sınıfları barındırmaktadır.)\n",
    "\n",
    "for sinif in [1, 2, 3]:\n",
    "    sinif_verisi = Titanic_dataset[Titanic_dataset[\"Pclass\"] == sinif]\n",
    "    ortalama_fiyat = sinif_verisi[\"Fare\"].mean()\n",
    "    medyan_fiyat = sinif_verisi[\"Fare\"].median()\n",
    "    \n",
    "    print(f\"{sinif}. Sınıf - Ortalama Fiyat: {ortalama_fiyat:.2f}, Medyan Fiyat: {medyan_fiyat:.2f}\")\n"
   ]
  },
  {
   "cell_type": "code",
   "execution_count": 17,
   "id": "10e7821e-272c-427b-b071-00bb30931320",
   "metadata": {},
   "outputs": [
    {
     "name": "stdout",
     "output_type": "stream",
     "text": [
      "Kazada ölen kadın oranı: %25.80\n",
      "Kazada ölen erkek oranı: %81.11\n"
     ]
    }
   ],
   "source": [
    "#Kazada ölen kadınların oranı ile erkeklerin oranını karşılaştırınız. (Örnek: erkekler için; ölen erkeklerin, erkek sayısına bölümü bu oranı vermektedir.\n",
    "\n",
    "toplam_kadin = Titanic_dataset[Titanic_dataset[\"Sex\"] == \"female\"].shape[0]\n",
    "toplam_erkek = Titanic_dataset[Titanic_dataset[\"Sex\"] == \"male\"].shape[0]\n",
    "\n",
    "\n",
    "olen_kadin = Titanic_dataset[(Titanic_dataset[\"Sex\"] == \"female\") & (Titanic_dataset[\"Survived\"] == 0)].shape[0]\n",
    "olen_erkek = Titanic_dataset[(Titanic_dataset[\"Sex\"] == \"male\") & (Titanic_dataset[\"Survived\"] == 0)].shape[0]\n",
    "\n",
    "\n",
    "oran_kadin = olen_kadin / toplam_kadin\n",
    "oran_erkek = olen_erkek / toplam_erkek\n",
    "\n",
    "print(f\"Kazada ölen kadın oranı: %{oran_kadin * 100:.2f}\")\n",
    "print(f\"Kazada ölen erkek oranı: %{oran_erkek * 100:.2f}\")\n"
   ]
  },
  {
   "cell_type": "code",
   "execution_count": null,
   "id": "99e3e48e-f983-4b2a-a414-d8cb4dab0dbd",
   "metadata": {},
   "outputs": [],
   "source": []
  }
 ],
 "metadata": {
  "kernelspec": {
   "display_name": "Python 3 (ipykernel)",
   "language": "python",
   "name": "python3"
  },
  "language_info": {
   "codemirror_mode": {
    "name": "ipython",
    "version": 3
   },
   "file_extension": ".py",
   "mimetype": "text/x-python",
   "name": "python",
   "nbconvert_exporter": "python",
   "pygments_lexer": "ipython3",
   "version": "3.10.13"
  }
 },
 "nbformat": 4,
 "nbformat_minor": 5
}
